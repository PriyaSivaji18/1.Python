{
 "cells": [
  {
   "cell_type": "code",
   "execution_count": 2,
   "metadata": {},
   "outputs": [],
   "source": [
    "#Create Function"
   ]
  },
  {
   "cell_type": "code",
   "execution_count": 12,
   "metadata": {},
   "outputs": [
    {
     "name": "stdout",
     "output_type": "stream",
     "text": [
      "Subfields in AI are :\n",
      "Machine Learning\n",
      "Nural Networks\n",
      "Vision\n",
      "Robotics\n",
      "Speech Processing\n",
      "Natural Language Processing\n"
     ]
    }
   ],
   "source": [
    "def Subfields():\n",
    "    lists=[\"Subfields in AI are :\",\"Machine Learning\",\"Nural Networks\",\"Vision\",\"Robotics\",\"Speech Processing\",\"Natural Language Processing\"]\n",
    "    for temp in lists:\n",
    "        print(temp)\n",
    "Subfields()          "
   ]
  },
  {
   "cell_type": "code",
   "execution_count": 15,
   "metadata": {},
   "outputs": [],
   "source": [
    "# Create Function"
   ]
  },
  {
   "cell_type": "code",
   "execution_count": 5,
   "metadata": {},
   "outputs": [
    {
     "name": "stdout",
     "output_type": "stream",
     "text": [
      "Enter The Number : 4\n",
      "The Given Number Is Even Number\n"
     ]
    }
   ],
   "source": [
    "def OddEven():\n",
    "    num=int(input(\"Enter The Number : \"))\n",
    "    if((num%2)==0):\n",
    "        message=\"Even Number\"\n",
    "    else:\n",
    "        message=\"Odd Number\"\n",
    "    if(message==\"Even Number\"):\n",
    "        print(\"The Given Number Is Even Number\")\n",
    "    else:\n",
    "        print(\"The Given Number Is Odd Number\")\n",
    "        return message\n",
    "message=OddEven()"
   ]
  },
  {
   "cell_type": "code",
   "execution_count": 6,
   "metadata": {},
   "outputs": [],
   "source": [
    "# Create Function"
   ]
  },
  {
   "cell_type": "code",
   "execution_count": 6,
   "metadata": {},
   "outputs": [
    {
     "name": "stdout",
     "output_type": "stream",
     "text": [
      "Your Gender : Male\n",
      "Your Age : 18\n",
      "NOT ELIGIBLE\n"
     ]
    }
   ],
   "source": [
    "def Eligible():\n",
    "    criteria=input(\"Your Gender : \")\n",
    "    age=int(input(\"Your Age : \"))\n",
    "    if(age>=18):\n",
    "        print(\"NOT ELIGIBLE\")\n",
    "    else:\n",
    "        print(\"ELIGIBLE\")\n",
    "Eligible()"
   ]
  },
  {
   "cell_type": "code",
   "execution_count": 7,
   "metadata": {},
   "outputs": [],
   "source": [
    "# Create Function"
   ]
  },
  {
   "cell_type": "code",
   "execution_count": 12,
   "metadata": {},
   "outputs": [
    {
     "name": "stdout",
     "output_type": "stream",
     "text": [
      "Subject 1 : 23\n",
      "Subject 2 : 45\n",
      "Subject 3 : 34\n",
      "Subject 4 : 23\n",
      "Subject 5 : 23\n",
      "Total: 148\n",
      "Percentage: 29.599999999999998\n"
     ]
    }
   ],
   "source": [
    "    sub1=int(input(\"Subject 1 : \"))\n",
    "    sub2=int(input(\"Subject 2 : \"))\n",
    "    sub3=int(input(\"Subject 3 : \"))\n",
    "    sub4=int(input(\"Subject 4 : \"))\n",
    "    sub5=int(input(\"Subject 5 : \"))\n",
    "def addition(sub1,sub2,sub3,sub4,sub5):\n",
    "        total=sub1+sub2+sub3+sub4+sub5\n",
    "        print(\"Total:\",total)\n",
    "addition(23,45,34,23,23)\n",
    "def percentage(total):\n",
    "        total=(total/500)*100\n",
    "        print(\"Percentage:\",total)\n",
    "percentage(148)"
   ]
  },
  {
   "cell_type": "code",
   "execution_count": 13,
   "metadata": {},
   "outputs": [],
   "source": [
    "# Create Function"
   ]
  },
  {
   "cell_type": "code",
   "execution_count": 20,
   "metadata": {},
   "outputs": [
    {
     "name": "stdout",
     "output_type": "stream",
     "text": [
      "Height:3\n",
      "Breadth:4\n",
      "Area Of Triangle: 6.0\n",
      "Height1:3\n",
      "Height2:4\n",
      "Breadth:45\n",
      "Perimeter Of Triangle: 52\n"
     ]
    }
   ],
   "source": [
    "height=int(input(\"Height:\"))\n",
    "breadth=int(input(\"Breadth:\"))\n",
    "def areaoftriangle(height,breadth):\n",
    "    area=(height*breadth)/2\n",
    "    print(\"Area Of Triangle:\",area)\n",
    "areaoftriangle(3,4)\n",
    "height1=int(input(\"Height1:\"))\n",
    "height2=int(input(\"Height2:\"))\n",
    "breadth=int(input(\"Breadth:\"))\n",
    "def perimeteroftriangle(height1,height2,breadth):\n",
    "    perimeter=height1+height2+breadth\n",
    "    print(\"Perimeter Of Triangle:\",perimeter)\n",
    "perimeteroftriangle(3,4,45)"
   ]
  },
  {
   "cell_type": "code",
   "execution_count": null,
   "metadata": {},
   "outputs": [],
   "source": []
  }
 ],
 "metadata": {
  "kernelspec": {
   "display_name": "Python 3",
   "language": "python",
   "name": "python3"
  },
  "language_info": {
   "codemirror_mode": {
    "name": "ipython",
    "version": 3
   },
   "file_extension": ".py",
   "mimetype": "text/x-python",
   "name": "python",
   "nbconvert_exporter": "python",
   "pygments_lexer": "ipython3",
   "version": "3.7.4"
  }
 },
 "nbformat": 4,
 "nbformat_minor": 2
}
