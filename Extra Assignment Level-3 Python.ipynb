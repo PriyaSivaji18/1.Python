{
 "cells": [
  {
   "cell_type": "code",
   "execution_count": 1,
   "metadata": {},
   "outputs": [
    {
     "name": "stdout",
     "output_type": "stream",
     "text": [
      "value:10\n",
      "Correct\n"
     ]
    }
   ],
   "source": [
    "value=int(input(\"value:\"))\n",
    "if(value==10):\n",
    "    print(\"Correct\")"
   ]
  },
  {
   "cell_type": "code",
   "execution_count": 3,
   "metadata": {},
   "outputs": [
    {
     "name": "stdout",
     "output_type": "stream",
     "text": [
      "Enter The Password:HOPE@123\n",
      "Your Password Is Correct\n"
     ]
    }
   ],
   "source": [
    "password=input(\"Enter The Password:\")\n",
    "if(password==\"HOPE@123\"):\n",
    "    print(\"Your Password Is Correct\")\n",
    "else:\n",
    "    print(\"Your Password Is Wrong\") "
   ]
  },
  {
   "cell_type": "code",
   "execution_count": 4,
   "metadata": {},
   "outputs": [
    {
     "name": "stdout",
     "output_type": "stream",
     "text": [
      "Enter The Age:20\n",
      "Adult\n"
     ]
    }
   ],
   "source": [
    "age=int(input(\"Enter The Age:\"))\n",
    "if(age<18):\n",
    "    print(\"Children\")\n",
    "elif(age<35):\n",
    "    print(\"Adult\")\n",
    "elif(age<59):\n",
    "    print(\"Citizen\")\n",
    "else:\n",
    "    print(\"Senior citizen\")"
   ]
  },
  {
   "cell_type": "code",
   "execution_count": 2,
   "metadata": {},
   "outputs": [
    {
     "name": "stdout",
     "output_type": "stream",
     "text": [
      "Enter any Number :1\n",
      "No is Positive\n"
     ]
    }
   ],
   "source": [
    "num=int(input(\"Enter any Number :\"))\n",
    "if(num>0):\n",
    "    print(\"No is Positive\")\n",
    "else:\n",
    "    print(\"No is Negative\")"
   ]
  },
  {
   "cell_type": "code",
   "execution_count": 4,
   "metadata": {},
   "outputs": [
    {
     "name": "stdout",
     "output_type": "stream",
     "text": [
      "Enter a number to check :22\n",
      "No is Not Divisible By 5\n"
     ]
    }
   ],
   "source": [
    "num=int(input(\"Enter a number to check :\"))\n",
    "if((num%5)==0):\n",
    "    print(\"No is Divisible By 5\")\n",
    "else:\n",
    "    print(\"No is Not Divisible By 5\")\n"
   ]
  }
 ],
 "metadata": {
  "kernelspec": {
   "display_name": "Python 3",
   "language": "python",
   "name": "python3"
  },
  "language_info": {
   "codemirror_mode": {
    "name": "ipython",
    "version": 3
   },
   "file_extension": ".py",
   "mimetype": "text/x-python",
   "name": "python",
   "nbconvert_exporter": "python",
   "pygments_lexer": "ipython3",
   "version": "3.7.4"
  }
 },
 "nbformat": 4,
 "nbformat_minor": 2
}
